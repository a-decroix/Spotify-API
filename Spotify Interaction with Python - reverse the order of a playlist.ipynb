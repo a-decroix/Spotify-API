{
 "cells": [
  {
   "cell_type": "markdown",
   "id": "d1157483",
   "metadata": {},
   "source": [
    "1. Install the spotipy package"
   ]
  },
  {
   "cell_type": "code",
   "execution_count": 2,
   "id": "c0c4bbd9",
   "metadata": {},
   "outputs": [
    {
     "name": "stdout",
     "output_type": "stream",
     "text": [
      "Requirement already satisfied: spotipy in ./opt/anaconda3/lib/python3.8/site-packages (2.19.0)\r\n",
      "Requirement already satisfied: urllib3>=1.26.0 in ./opt/anaconda3/lib/python3.8/site-packages (from spotipy) (1.26.4)\r\n",
      "Requirement already satisfied: requests>=2.25.0 in ./opt/anaconda3/lib/python3.8/site-packages (from spotipy) (2.26.0)\r\n",
      "Requirement already satisfied: six>=1.15.0 in ./opt/anaconda3/lib/python3.8/site-packages (from spotipy) (1.15.0)\r\n",
      "Requirement already satisfied: charset-normalizer~=2.0.0 in ./opt/anaconda3/lib/python3.8/site-packages (from requests>=2.25.0->spotipy) (2.0.9)\r\n",
      "Requirement already satisfied: certifi>=2017.4.17 in ./opt/anaconda3/lib/python3.8/site-packages (from requests>=2.25.0->spotipy) (2020.12.5)\r\n",
      "Requirement already satisfied: idna<4,>=2.5 in ./opt/anaconda3/lib/python3.8/site-packages (from requests>=2.25.0->spotipy) (2.10)\r\n"
     ]
    }
   ],
   "source": [
    "!pip install spotipy\n",
    "import spotipy\n",
    "import spotipy.util as util"
   ]
  },
  {
   "cell_type": "markdown",
   "id": "00d78426",
   "metadata": {},
   "source": [
    "2. Link to MY spotify account: client-specific input for the API!\n",
    "Also input the id for the particular playlist I am working on"
   ]
  },
  {
   "cell_type": "code",
   "execution_count": 20,
   "id": "e7a04403",
   "metadata": {},
   "outputs": [],
   "source": [
    "#input your username\n",
    "username = ''\n",
    "scope = 'user-library-read'\n",
    "scope = 'playlist-modify-public'"
   ]
  },
  {
   "cell_type": "code",
   "execution_count": 21,
   "id": "7e505263",
   "metadata": {},
   "outputs": [],
   "source": [
    "#input your credentials\n",
    "CLIENT_ID = ''\n",
    "CLIENT_SECRET = ''"
   ]
  },
  {
   "cell_type": "code",
   "execution_count": 22,
   "id": "3ff18c27",
   "metadata": {},
   "outputs": [],
   "source": [
    "#input the playlist id (can be found in the playlist share URL)\n",
    "playlist_id = ''"
   ]
  },
  {
   "cell_type": "markdown",
   "id": "329609fb",
   "metadata": {},
   "source": [
    "3. Connect to the spotify API, using the credential tokens we just set up\n"
   ]
  },
  {
   "cell_type": "code",
   "execution_count": 39,
   "id": "0c2384a6",
   "metadata": {},
   "outputs": [],
   "source": [
    "token = util.prompt_for_user_token(username,\n",
    "                                   scope,\n",
    "                                   client_id=CLIENT_ID,\n",
    "                                   client_secret=CLIENT_SECRET,\n",
    "                                   redirect_uri='http://localhost:8888/callback') #can put own localhost here!\n",
    "\n",
    "sp = spotipy.Spotify(auth=token)"
   ]
  },
  {
   "cell_type": "markdown",
   "id": "7f13541d",
   "metadata": {},
   "source": [
    " [item for item in original_tracks['items']] only returns the 'items' list. To figure out each item's playlist id, index with 'track' and then with 'id' as above. So we get [item['track']['id'] for item in original_tracks['items']]"
   ]
  },
  {
   "cell_type": "code",
   "execution_count": 1,
   "id": "59de187f",
   "metadata": {},
   "outputs": [],
   "source": [
    "##This code defines two new functions: one that takes all the existing tracks, copies them, \n",
    "## deletes the originals, calls the 'track_modifier' function on the copy, and adds the copy\n",
    "## back to the original playlist.\n",
    "\n",
    "##The second function simply reverses all of the tracks in the original list it is passed\n",
    "\n",
    "def modify_playlist_tracks(playlist_id, track_modifier):\n",
    "    #get the original tracks\n",
    "    original_tracks = sp.user_playlist_tracks(username, playlist_id)\n",
    "    \n",
    "    #get the new tracks by calling 'track_modifier' on the original tracks\n",
    "    new_tracks = track_modifier(original_tracks)\n",
    "    \n",
    "    #Rename the remove tracks function to a shorter, easier 'remove_tracks'\n",
    "    remove_tracks = sp.user_playlist_remove_all_occurrences_of_tracks\n",
    "    \n",
    "    #get the list of the original ids\n",
    "    original_ids = [item['track']['id'] for item in\n",
    "                                        original_tracks['items']]\n",
    "    #remove the original ids\n",
    "    remove_tracks(username, playlist_id, original_ids)\n",
    "    \n",
    "    #add the new, reversed tracks\n",
    "    sp.user_playlist_add_tracks(username, playlist_id, new_tracks)\n",
    "\n",
    "\n",
    "#Return a reversed list of ids from the original ids\n",
    "def track_modifier(tracks):\n",
    "    return reversed([item['track']['id'] for item in tracks['items']])\n",
    "\n",
    "\n"
   ]
  },
  {
   "cell_type": "code",
   "execution_count": 42,
   "id": "9e301f95",
   "metadata": {},
   "outputs": [],
   "source": [
    "#call the modify playlist function to flip the tracks!\n",
    "modify_playlist_tracks(playlist_id, track_modifier)"
   ]
  },
  {
   "cell_type": "markdown",
   "id": "1074228d",
   "metadata": {},
   "source": [
    "Tutorial from: https://mathigon.org/course/programming-in-python/project-1-spotify"
   ]
  }
 ],
 "metadata": {
  "kernelspec": {
   "display_name": "Python 3",
   "language": "python",
   "name": "python3"
  },
  "language_info": {
   "codemirror_mode": {
    "name": "ipython",
    "version": 3
   },
   "file_extension": ".py",
   "mimetype": "text/x-python",
   "name": "python",
   "nbconvert_exporter": "python",
   "pygments_lexer": "ipython3",
   "version": "3.8.8"
  }
 },
 "nbformat": 4,
 "nbformat_minor": 5
}
